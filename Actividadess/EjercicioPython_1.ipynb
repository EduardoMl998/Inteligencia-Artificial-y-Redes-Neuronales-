{
  "nbformat": 4,
  "nbformat_minor": 0,
  "metadata": {
    "colab": {
      "provenance": []
    },
    "kernelspec": {
      "name": "python3",
      "display_name": "Python 3"
    },
    "language_info": {
      "name": "python"
    }
  },
  "cells": [
    {
      "cell_type": "markdown",
      "source": [
        "ACTIVIDAD 1 EJERCICIOS DE PYTHON\n",
        "EDUARDO MARTINEZ LOPEZ MATRICULA 1889106\n",
        "HORA DE CLASE N1-N2\n"
      ],
      "metadata": {
        "id": "40yLdsgPUGXo"
      }
    },
    {
      "cell_type": "markdown",
      "source": [
        "1. Desarrolla un algoritmo que solicite al usuario dos números y muestre la suma de ambos"
      ],
      "metadata": {
        "id": "KcTaqFMTTJf1"
      }
    },
    {
      "cell_type": "code",
      "execution_count": 1,
      "metadata": {
        "colab": {
          "base_uri": "https://localhost:8080/"
        },
        "id": "DHj2ZDPqS6n8",
        "outputId": "4c26c25d-5589-4421-8d0d-81cf258176ea"
      },
      "outputs": [
        {
          "output_type": "stream",
          "name": "stdout",
          "text": [
            "Ingresa el primer número: 1\n",
            "Ingresa el segundo número: 2\n",
            "La suma de 1.0 y 2.0 es: 3.0\n"
          ]
        }
      ],
      "source": [
        "# Solicitar al usuario dos números\n",
        "numero1 = float(input(\"Ingresa el primer número: \"))\n",
        "numero2 = float(input(\"Ingresa el segundo número: \"))\n",
        "\n",
        "# Calcular la suma de los números\n",
        "suma = numero1 + numero2\n",
        "\n",
        "# Mostrar el resultado\n",
        "print(\"La suma de\", numero1, \"y\", numero2, \"es:\", suma)\n"
      ]
    },
    {
      "cell_type": "markdown",
      "source": [
        "2. Desarrolla un algoritmo que calcule el factorial de un número ingresado por el usuario"
      ],
      "metadata": {
        "id": "0UkORqhYTb6T"
      }
    },
    {
      "cell_type": "code",
      "source": [
        "# Solicitar al usuario un número\n",
        "numero = int(input(\"Ingresa un número: \"))\n",
        "\n",
        "# Inicializar el factorial en 1\n",
        "factorial = 1\n",
        "\n",
        "# Calcular el factorial\n",
        "for i in range(1, numero + 1):\n",
        "    factorial *= i\n",
        "\n",
        "# Mostrar el resultado\n",
        "print(\"El factorial de\", numero, \"es:\", factorial)\n"
      ],
      "metadata": {
        "colab": {
          "base_uri": "https://localhost:8080/"
        },
        "id": "PXbolCc6TAJo",
        "outputId": "f063546d-10cf-4b5a-c0a6-40c42d2f3525"
      },
      "execution_count": 2,
      "outputs": [
        {
          "output_type": "stream",
          "name": "stdout",
          "text": [
            "Ingresa un número: 2\n",
            "El factorial de 2 es: 2\n"
          ]
        }
      ]
    },
    {
      "cell_type": "markdown",
      "source": [
        "3. Desarrolla un algoritmo que tome una lista de números y un número objetivo, y muestre la posición (índice) en la que se encuentra el número objetivo en la lista."
      ],
      "metadata": {
        "id": "ohC40PU-ThxG"
      }
    },
    {
      "cell_type": "code",
      "source": [
        "def buscar_indice(lista, objetivo):\n",
        "    for i in range(len(lista)):\n",
        "        if lista[i] == objetivo:\n",
        "            return i\n",
        "    return -1\n",
        "\n",
        "# Ejemplo de uso\n",
        "numeros = [2, 5, 8, 10, 13, 6, 4, 9]\n",
        "numero_objetivo = 13\n",
        "\n",
        "indice = buscar_indice(numeros, numero_objetivo)\n",
        "\n",
        "if indice != -1:\n",
        "    print(\"El número objetivo\", numero_objetivo, \"se encuentra en el índice\", indice)\n",
        "else:\n",
        "    print(\"El número objetivo\", numero_objetivo, \"no se encuentra en la lista.\")\n"
      ],
      "metadata": {
        "colab": {
          "base_uri": "https://localhost:8080/"
        },
        "id": "kyqS1K0bTf7V",
        "outputId": "f28403e8-916b-4c18-b2e1-0f3ae48734d3"
      },
      "execution_count": 3,
      "outputs": [
        {
          "output_type": "stream",
          "name": "stdout",
          "text": [
            "El número objetivo 13 se encuentra en el índice 4\n"
          ]
        }
      ]
    },
    {
      "cell_type": "markdown",
      "source": [
        "4. Desarrolla un algoritmo que tome una cadena de texto y determine si es un palíndromo (se lee igual de adelante hacia atrás y viceversa)"
      ],
      "metadata": {
        "id": "TR37i0nkTujM"
      }
    },
    {
      "cell_type": "code",
      "source": [
        "def es_palindromo(cadena):\n",
        "    # Eliminar espacios y convertir a minúsculas\n",
        "    cadena = cadena.replace(\" \", \"\").lower()\n",
        "    # Verificar si la cadena es igual a su reverso\n",
        "    if cadena == cadena[::-1]:\n",
        "        return True\n",
        "    else:\n",
        "        return False\n",
        "\n",
        "# Ejemplo de uso\n",
        "texto = input(\"Ingresa una cadena de texto: \")\n",
        "\n",
        "if es_palindromo(texto):\n",
        "    print(\"La cadena es un palíndromo.\")\n",
        "else:\n",
        "    print(\"La cadena no es un palíndromo.\")\n"
      ],
      "metadata": {
        "colab": {
          "base_uri": "https://localhost:8080/"
        },
        "id": "s2t5EGT7TuNV",
        "outputId": "a7b491c8-d10d-4151-e3f7-f7b34e26afdb"
      },
      "execution_count": 5,
      "outputs": [
        {
          "output_type": "stream",
          "name": "stdout",
          "text": [
            "Ingresa una cadena de texto: Anita lava la tina\n",
            "La cadena es un palíndromo.\n"
          ]
        }
      ]
    },
    {
      "cell_type": "code",
      "source": [],
      "metadata": {
        "id": "XM6PhfybT0cM"
      },
      "execution_count": null,
      "outputs": []
    }
  ]
}